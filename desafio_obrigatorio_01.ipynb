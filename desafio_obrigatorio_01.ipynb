{
 "cells": [
  {
   "cell_type": "code",
   "execution_count": 2,
   "metadata": {},
   "outputs": [
    {
     "name": "stdout",
     "output_type": "stream",
     "text": [
      "Collecting plyer\n",
      "  Downloading plyer-2.1.0-py2.py3-none-any.whl (142 kB)\n",
      "     ---------------------------------------- 0.0/142.3 kB ? eta -:--:--\n",
      "     -- ------------------------------------- 10.2/142.3 kB ? eta -:--:--\n",
      "     ----------------------------------- -- 133.1/142.3 kB 2.0 MB/s eta 0:00:01\n",
      "     -------------------------------------- 142.3/142.3 kB 2.1 MB/s eta 0:00:00\n",
      "Installing collected packages: plyer\n",
      "Successfully installed plyer-2.1.0\n",
      "Note: you may need to restart the kernel to use updated packages.\n"
     ]
    },
    {
     "name": "stderr",
     "output_type": "stream",
     "text": [
      "\n",
      "[notice] A new release of pip is available: 23.2.1 -> 23.3.1\n",
      "[notice] To update, run: python.exe -m pip install --upgrade pip\n"
     ]
    }
   ],
   "source": [
    "#pip install plyer"
   ]
  },
  {
   "cell_type": "code",
   "execution_count": 3,
   "metadata": {},
   "outputs": [],
   "source": [
    "from plyer import notification\n",
    "from datetime import datetime\n",
    "\n",
    "def alerta(nivel, base, etapa):\n",
    "    dt_atual = datetime.now().strftime(\"%d/%m/%Y %H:%M:%S\")\n",
    "\n",
    "    if nivel == 1:\n",
    "        ds_alerta = \"Alerta Baixo\"\n",
    "    elif nivel == 2:\n",
    "        ds_alerta = \"Alerta Médio\"\n",
    "    elif nivel == 3:\n",
    "        ds_alerta = \"Alerta Alto\"\n",
    "\n",
    "    notification.notify(\n",
    "        title = ds_alerta,\n",
    "        message = f\"Falha no carregamento da base {base} na etapa {etapa}\\n{dt_atual}\",\n",
    "        app_name = \"\",\n",
    "        timeout = 10)"
   ]
  },
  {
   "cell_type": "code",
   "execution_count": 4,
   "metadata": {},
   "outputs": [],
   "source": [
    "alerta(3, \"CLIENTES\", \"EXTRAÇÃO\")"
   ]
  }
 ],
 "metadata": {
  "kernelspec": {
   "display_name": "Python 3",
   "language": "python",
   "name": "python3"
  },
  "language_info": {
   "codemirror_mode": {
    "name": "ipython",
    "version": 3
   },
   "file_extension": ".py",
   "mimetype": "text/x-python",
   "name": "python",
   "nbconvert_exporter": "python",
   "pygments_lexer": "ipython3",
   "version": "3.12.0"
  }
 },
 "nbformat": 4,
 "nbformat_minor": 2
}
