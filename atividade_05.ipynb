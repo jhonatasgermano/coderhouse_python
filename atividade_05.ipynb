{
 "cells": [
  {
   "cell_type": "code",
   "execution_count": null,
   "metadata": {},
   "outputs": [],
   "source": [
    "\"\"\"\n",
    "    Crie uma classe Retangulo que tenha os atributos base e altura e os métodos area() e perimetro(). \n",
    "    Crie um objeto e teste os métodos. \n",
    "\"\"\""
   ]
  },
  {
   "cell_type": "code",
   "execution_count": 14,
   "metadata": {},
   "outputs": [],
   "source": [
    "class Retangulo:\n",
    "    def __init__(self, base, altura):\n",
    "        self.base = base\n",
    "        self.altura = altura\n",
    "    \n",
    "    def calc_area(self):\n",
    "        area = self.base * self.altura\n",
    "        return area\n",
    "    \n",
    "    def calc_perimetro(self):\n",
    "        perimetro = 2 * (self.base + self.altura)\n",
    "        return perimetro"
   ]
  },
  {
   "cell_type": "code",
   "execution_count": null,
   "metadata": {},
   "outputs": [
    {
     "name": "stdout",
     "output_type": "stream",
     "text": [
      "Área: 50\n",
      "Perímetro: 30\n"
     ]
    }
   ],
   "source": [
    "resultado = Retangulo(10, 6)\n",
    "print(f\"Área: {resultado.calc_area()}\")\n",
    "print(f\"Perímetro: {resultado.calc_perimetro()}\")"
   ]
  },
  {
   "cell_type": "code",
   "execution_count": null,
   "metadata": {},
   "outputs": [],
   "source": [
    "\"\"\"\n",
    "    Crie um arquivo chamado geometria.py e salve a classe Retangulo dentro desse arquivo. \n",
    "    Importe a classe de algum outro arquivo e realize testes.\n",
    "\"\"\""
   ]
  },
  {
   "cell_type": "code",
   "execution_count": 29,
   "metadata": {},
   "outputs": [],
   "source": [
    "import geometria as ge"
   ]
  },
  {
   "cell_type": "code",
   "execution_count": 30,
   "metadata": {},
   "outputs": [
    {
     "name": "stdout",
     "output_type": "stream",
     "text": [
      "Área: 50\n",
      "Perímetro: 30\n"
     ]
    }
   ],
   "source": [
    "retangulo = ge.Retangulo(10, 5)\n",
    "\n",
    "area = retangulo.calc_area()\n",
    "perimetro = retangulo.calc_perimetro()\n",
    "\n",
    "print(f\"Área: {area}\")\n",
    "print(f\"Perímetro: {perimetro}\")"
   ]
  },
  {
   "cell_type": "code",
   "execution_count": null,
   "metadata": {},
   "outputs": [],
   "source": [
    "\"\"\"\n",
    "    Crie uma classe Conta que tenha os atributos saldo e titular e os métodos depositar() e sacar(). \n",
    "    Em seguida, instancie essa classe com um saldo inicial e realize algumas operações de depósito \n",
    "    e saque para verificar se o saldo está sendo atualizado corretamente.\n",
    "\n",
    "\"\"\""
   ]
  },
  {
   "cell_type": "code",
   "execution_count": 50,
   "metadata": {},
   "outputs": [],
   "source": [
    "class Conta:\n",
    "    def __init__(self, titular, saldo = 0):\n",
    "        self.titular = titular\n",
    "        self.saldo = saldo\n",
    "\n",
    "    def depositar(self, valor):\n",
    "        self.saldo += valor\n",
    "        return self.saldo\n",
    "    \n",
    "    def sacar(self, valor):\n",
    "        if self.saldo >= valor:\n",
    "            self.saldo -= valor\n",
    "            return self.saldo\n",
    "        else:\n",
    "            print(\"Saldo insuficiente!\")"
   ]
  },
  {
   "cell_type": "code",
   "execution_count": 53,
   "metadata": {},
   "outputs": [
    {
     "data": {
      "text/plain": [
       "3700.0"
      ]
     },
     "execution_count": 53,
     "metadata": {},
     "output_type": "execute_result"
    }
   ],
   "source": [
    "conta = Conta(\"Jhonatas Salve\", 3000.00)\n",
    "conta.depositar(700)"
   ]
  },
  {
   "cell_type": "code",
   "execution_count": 55,
   "metadata": {},
   "outputs": [
    {
     "name": "stdout",
     "output_type": "stream",
     "text": [
      "Saldo insuficiente!\n"
     ]
    }
   ],
   "source": [
    "conta.sacar(4000.00)"
   ]
  }
 ],
 "metadata": {
  "kernelspec": {
   "display_name": "base",
   "language": "python",
   "name": "python3"
  },
  "language_info": {
   "codemirror_mode": {
    "name": "ipython",
    "version": 3
   },
   "file_extension": ".py",
   "mimetype": "text/x-python",
   "name": "python",
   "nbconvert_exporter": "python",
   "pygments_lexer": "ipython3",
   "version": "3.12.0"
  }
 },
 "nbformat": 4,
 "nbformat_minor": 2
}
