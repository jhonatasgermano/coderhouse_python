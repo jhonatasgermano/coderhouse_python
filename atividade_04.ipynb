{
 "cells": [
  {
   "cell_type": "code",
   "execution_count": 2,
   "metadata": {},
   "outputs": [
    {
     "data": {
      "text/plain": [
       "False"
      ]
     },
     "execution_count": 2,
     "metadata": {},
     "output_type": "execute_result"
    }
   ],
   "source": [
    "\"\"\"\n",
    "    Crie uma função lambda chamada eh_multiplo_dez() \n",
    "    que retorna True se um determinado número é múltiplo de 10 e False caso contrário.\n",
    "\"\"\"\n",
    "\n",
    "eh_multiplo_dez = lambda x: True if x % 10 == 0 else False\n",
    "eh_multiplo_dez(15)\n"
   ]
  },
  {
   "cell_type": "code",
   "execution_count": 16,
   "metadata": {},
   "outputs": [
    {
     "data": {
      "text/plain": [
       "3628800"
      ]
     },
     "execution_count": 16,
     "metadata": {},
     "output_type": "execute_result"
    }
   ],
   "source": [
    "\"\"\" \n",
    "    Converta o programa de cálculo de fatorial da aula anterior para uma função.\n",
    "    A função recebe como argumento o n e retorna o fatorial de n.\n",
    "\"\"\"\n",
    "\n",
    "\n",
    "def fatorial(n):\n",
    "    resultado = 1\n",
    "    for i in range(1, n + 1):\n",
    "        resultado *= i\n",
    "    \n",
    "    return resultado\n",
    "\n",
    "\n",
    "fatorial(10)"
   ]
  },
  {
   "cell_type": "code",
   "execution_count": 1,
   "metadata": {},
   "outputs": [
    {
     "name": "stdout",
     "output_type": "stream",
     "text": [
      "['João', 'Maria', 'Ana', 'Ana']\n"
     ]
    }
   ],
   "source": [
    "\"\"\" \n",
    "    Crie uma função primeiro_nome que recebe uma string nome completo e retorna somente o primeiro nome.\n",
    "    Em seguida, use a função map para aplicar a função a uma lista de strings: \n",
    "    nomes = ['João Carlos', 'Maria Eduarda', 'Ana Rute', 'Ana Clara']\n",
    "\"\"\"\n",
    "\n",
    "\n",
    "def primeiro_nome(nome_completo):\n",
    "    nome_completo_separado = nome_completo.split()\n",
    "    return nome_completo_separado[0]\n",
    "\n",
    "\n",
    "nomes = ['João Carlos', 'Maria Eduarda', 'Ana Rute', 'Ana Clara']\n",
    "nomes_separados = list(map(primeiro_nome, nomes))\n",
    "print(nomes_separados)\n"
   ]
  },
  {
   "cell_type": "code",
   "execution_count": 38,
   "metadata": {},
   "outputs": [
    {
     "name": "stdout",
     "output_type": "stream",
     "text": [
      "Monday\n"
     ]
    }
   ],
   "source": [
    "\"\"\" \n",
    "    Escreva uma função que receba uma data no formato dd/mm/aaaa e \n",
    "    retorne o dia da semana correspondente (Monday, Tuesday, etc.).\n",
    "\"\"\"\n",
    "\n",
    "from datetime import datetime\n",
    "\n",
    "\n",
    "def dia_semana(data):\n",
    "    dia = datetime.strptime(data, '%d/%m/%Y').strftime(\"%A\")\n",
    "    return dia\n",
    "\n",
    "\n",
    "data = input()\n",
    "print(dia_semana(data))"
   ]
  }
 ],
 "metadata": {
  "kernelspec": {
   "display_name": "base",
   "language": "python",
   "name": "python3"
  },
  "language_info": {
   "codemirror_mode": {
    "name": "ipython",
    "version": 3
   },
   "file_extension": ".py",
   "mimetype": "text/x-python",
   "name": "python",
   "nbconvert_exporter": "python",
   "pygments_lexer": "ipython3",
   "version": "3.11.4"
  }
 },
 "nbformat": 4,
 "nbformat_minor": 2
}
