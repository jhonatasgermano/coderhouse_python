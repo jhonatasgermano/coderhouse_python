{
 "cells": [
  {
   "cell_type": "code",
   "execution_count": 35,
   "metadata": {},
   "outputs": [
    {
     "name": "stdout",
     "output_type": "stream",
     "text": [
      "O número 10 é par!\n"
     ]
    }
   ],
   "source": [
    "# Escreva um programa que receba um número inteiro e exiba se ele é par ou ímpar.\n",
    "\n",
    "num = int(input(\"Digite um número inteiro: \"))\n",
    "if num % 2 == 0:\n",
    "    print(f\"O número {num} é par!\")\n",
    "else:\n",
    "    print(f\"O número {num} é ímpar!\")\n"
   ]
  },
  {
   "cell_type": "code",
   "execution_count": 14,
   "metadata": {},
   "outputs": [
    {
     "name": "stdout",
     "output_type": "stream",
     "text": [
      "daqui: 5 caracteres\n",
      "pra: 3 caracteres\n",
      "frente: 6 caracteres\n",
      "é: 1 caracteres\n",
      "só: 2 caracteres\n",
      "pra: 3 caracteres\n",
      "trás: 4 caracteres\n"
     ]
    }
   ],
   "source": [
    "# Escreva um programa em Python que solicita ao usuário uma frase e, \n",
    "# em seguida, exibe cada palavra e seu número de caracteres.\n",
    "\n",
    "frase = input(\"Digite uma frase: \")\n",
    "palavras = frase.split()\n",
    "\n",
    "for i in palavras:\n",
    "    tamanho = len(i)\n",
    "    print(f\"{i}: {tamanho} caracteres\")\n"
   ]
  },
  {
   "cell_type": "code",
   "execution_count": 37,
   "metadata": {},
   "outputs": [
    {
     "name": "stdout",
     "output_type": "stream",
     "text": [
      "Acesso liberado!\n"
     ]
    }
   ],
   "source": [
    "# Crie um programa em Python que solicita ao usuário uma senha numérica de 4 dígitos. \n",
    "# O programa deve repetir essa solicitação até que o usuário informe a senha correta (1234).\n",
    "\n",
    "\n",
    "senha = int(input(\"Digite uma senha numérica de 4 dígitos: \"))\n",
    "while senha != 1234:\n",
    "    senha = int(input(\"Senha inválida! Tente novamente: \"))\n",
    "\n",
    "print(\"Acesso liberado!\")"
   ]
  },
  {
   "cell_type": "code",
   "execution_count": 16,
   "metadata": {},
   "outputs": [
    {
     "name": "stdout",
     "output_type": "stream",
     "text": [
      "O fatorial de 10 é 3628800\n"
     ]
    }
   ],
   "source": [
    "# Escreva um programa que dado um valor n calcula o fatorial de n.\n",
    "\n",
    "n = 10\n",
    "fatorial = 1\n",
    "\n",
    "for i in range(1, n + 1):\n",
    "    fatorial *= i\n",
    "\n",
    "print(f\"O fatorial de {n} é {fatorial}\")"
   ]
  },
  {
   "cell_type": "code",
   "execution_count": 13,
   "metadata": {},
   "outputs": [
    {
     "name": "stdout",
     "output_type": "stream",
     "text": [
      "Janeiro = 232\n",
      "Fevereiro = 321\n",
      "Junho = 589\n",
      "Julho = 547\n"
     ]
    }
   ],
   "source": [
    "# Crie um dicionário com os dados a seguir:\n",
    "#   Mês     | QTD\n",
    "# ===============\n",
    "# Janeiro   | 232\n",
    "# Fevereiro | 321\n",
    "# Junho     | 589 \n",
    "# Julho     | 547\n",
    "# crie um loop para exibir os valores.\n",
    "\n",
    "dicionario = {\"Janeiro\": 232, \"Fevereiro\": 321, \"Junho\": 589, \"Julho\": 547}\n",
    "for i in dicionario:\n",
    "    print(i, \"=\", dicionario[i])"
   ]
  },
  {
   "cell_type": "code",
   "execution_count": 17,
   "metadata": {},
   "outputs": [
    {
     "name": "stdout",
     "output_type": "stream",
     "text": [
      "Janeiro = 232\n",
      "Fevereiro = 321\n",
      "Junho = 589\n",
      "Julho = 547\n"
     ]
    }
   ],
   "source": [
    "dicionario = {\n",
    "    \"Janeiro\": 232, \n",
    "    \"Fevereiro\": 321, \n",
    "    \"Junho\": 589, \n",
    "    \"Julho\": 547\n",
    "}\n",
    "\n",
    "for mes, qtd in dicionario.items():\n",
    "    print(f\"{mes} = {qtd}\")"
   ]
  }
 ],
 "metadata": {
  "kernelspec": {
   "display_name": "base",
   "language": "python",
   "name": "python3"
  },
  "language_info": {
   "codemirror_mode": {
    "name": "ipython",
    "version": 3
   },
   "file_extension": ".py",
   "mimetype": "text/x-python",
   "name": "python",
   "nbconvert_exporter": "python",
   "pygments_lexer": "ipython3",
   "version": "3.11.4"
  }
 },
 "nbformat": 4,
 "nbformat_minor": 2
}
