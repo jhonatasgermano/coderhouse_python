{
 "cells": [
  {
   "cell_type": "code",
   "execution_count": 57,
   "metadata": {},
   "outputs": [
    {
     "name": "stdout",
     "output_type": "stream",
     "text": [
      "Seu IMC é de 22.89 kg/m²\n"
     ]
    }
   ],
   "source": [
    "def calcular_imc(peso, altura):\n",
    "    imc = peso / altura ** 2\n",
    "    return imc\n",
    "\n",
    "\n",
    "def main():\n",
    "    peso = float(input(\"Digite o seu peso em kg: \"))\n",
    "    altura = float(input(\"Digite a sua altura em metros: \"))\n",
    "\n",
    "    resultado = calcular_imc(peso, altura)\n",
    "    print(f\"Seu IMC é de {resultado:.2f} kg/m²\")\n",
    "\n",
    "\n",
    "if __name__ == \"__main__\":\n",
    "    main()"
   ]
  },
  {
   "cell_type": "code",
   "execution_count": 58,
   "metadata": {},
   "outputs": [
    {
     "name": "stdout",
     "output_type": "stream",
     "text": [
      "[1, 3, 5, 7, 9]\n"
     ]
    }
   ],
   "source": [
    "def inserir_numero():\n",
    "    lista = []\n",
    "    for i in range(5):\n",
    "        numero = int(input(f\"Digite o {i + 1}° número inteiro: \"))\n",
    "        lista.append(numero)\n",
    "    \n",
    "    return lista\n",
    "\n",
    "\n",
    "def main():\n",
    "    resultado = inserir_numero()\n",
    "    print(resultado)\n",
    "\n",
    "\n",
    "if __name__ == \"__main__\":\n",
    "    main()\n"
   ]
  },
  {
   "cell_type": "code",
   "execution_count": 59,
   "metadata": {},
   "outputs": [
    {
     "name": "stdout",
     "output_type": "stream",
     "text": [
      "['Jhonatas', 'Julia', 'Pietro', 'Joaquim']\n"
     ]
    }
   ],
   "source": [
    "def lista_nome(nome):\n",
    "    lista = nome.split(\",\")\n",
    "    lista = [nome.strip() for nome in lista]\n",
    "    return lista\n",
    "\n",
    "\n",
    "def main():\n",
    "    nome = input(\"Digite uma lista de nomes separados por vírgula: \")\n",
    "\n",
    "    resultado = lista_nome(nome)\n",
    "    print(resultado)\n",
    "\n",
    "\n",
    "if __name__ == \"__main__\":\n",
    "    main()\n"
   ]
  }
 ],
 "metadata": {
  "kernelspec": {
   "display_name": "base",
   "language": "python",
   "name": "python3"
  },
  "language_info": {
   "codemirror_mode": {
    "name": "ipython",
    "version": 3
   },
   "file_extension": ".py",
   "mimetype": "text/x-python",
   "name": "python",
   "nbconvert_exporter": "python",
   "pygments_lexer": "ipython3",
   "version": "3.11.4"
  }
 },
 "nbformat": 4,
 "nbformat_minor": 2
}
