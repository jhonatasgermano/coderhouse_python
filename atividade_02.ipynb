{
 "cells": [
  {
   "cell_type": "code",
   "execution_count": 7,
   "metadata": {},
   "outputs": [
    {
     "name": "stdout",
     "output_type": "stream",
     "text": [
      "Seu novo saldo é 941.6\n"
     ]
    }
   ],
   "source": [
    "saldo = 950.60\n",
    "saque = float(input(\"Digite o valor do saque: \"))\n",
    "\n",
    "saldo -= saque\n",
    "print(\"Seu novo saldo é {}\".format(saldo))"
   ]
  },
  {
   "cell_type": "code",
   "execution_count": 14,
   "metadata": {},
   "outputs": [
    {
     "data": {
      "text/plain": [
       "{'Abacaxi', 'Banana', 'Kiwi', 'Morango', 'Uva'}"
      ]
     },
     "execution_count": 14,
     "metadata": {},
     "output_type": "execute_result"
    }
   ],
   "source": [
    "frutas = [\"Abacaxi\", \"Banana\", \"Kiwi\", \"Morango\", \"Uva\"]\n",
    "\n",
    "frutas.append(input(\"Digite um nome de uma fruta: \"))\n",
    "frutas = set(frutas)\n",
    "\n",
    "frutas"
   ]
  },
  {
   "cell_type": "code",
   "execution_count": 28,
   "metadata": {},
   "outputs": [
    {
     "data": {
      "text/plain": [
       "'*bcd*'"
      ]
     },
     "execution_count": 28,
     "metadata": {},
     "output_type": "execute_result"
    }
   ],
   "source": [
    "frase = input(\"Digite uma frase: \")\n",
    "frase_lower = frase.lower()\n",
    "\n",
    "nova_frase = frase_lower.replace(\"a\", \"*\").replace(\"e\", \"*\").replace(\"i\", \"*\").replace(\"o\", \"*\").replace(\"u\", \"*\")\n",
    "nova_frase"
   ]
  }
 ],
 "metadata": {
  "kernelspec": {
   "display_name": "base",
   "language": "python",
   "name": "python3"
  },
  "language_info": {
   "codemirror_mode": {
    "name": "ipython",
    "version": 3
   },
   "file_extension": ".py",
   "mimetype": "text/x-python",
   "name": "python",
   "nbconvert_exporter": "python",
   "pygments_lexer": "ipython3",
   "version": "3.11.4"
  }
 },
 "nbformat": 4,
 "nbformat_minor": 2
}
